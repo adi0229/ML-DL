{
  "nbformat": 4,
  "nbformat_minor": 0,
  "metadata": {
    "colab": {
      "name": "spotify_2010_2019_top.ipynb",
      "provenance": [],
      "collapsed_sections": [],
      "include_colab_link": true
    },
    "kernelspec": {
      "name": "python3",
      "display_name": "Python 3"
    }
  },
  "cells": [
    {
      "cell_type": "markdown",
      "metadata": {
        "id": "view-in-github",
        "colab_type": "text"
      },
      "source": [
        "<a href=\"https://colab.research.google.com/github/adi0229/ML-DL/blob/master/spotify_2010_2019_top.ipynb\" target=\"_parent\"><img src=\"https://colab.research.google.com/assets/colab-badge.svg\" alt=\"Open In Colab\"/></a>"
      ]
    },
    {
      "cell_type": "code",
      "metadata": {
        "id": "tWKXW61YAkQ0",
        "colab_type": "code",
        "outputId": "de3db7a9-8086-423c-d88c-030753518129",
        "colab": {
          "base_uri": "https://localhost:8080/",
          "height": 54
        }
      },
      "source": [
        "# 连接 google drive 网络硬盘\n",
        "\n",
        "from google.colab import drive\n",
        "drive.mount('/content/gdrive')    "
      ],
      "execution_count": 0,
      "outputs": [
        {
          "output_type": "stream",
          "text": [
            "Drive already mounted at /content/gdrive; to attempt to forcibly remount, call drive.mount(\"/content/gdrive\", force_remount=True).\n"
          ],
          "name": "stdout"
        }
      ]
    },
    {
      "cell_type": "markdown",
      "metadata": {
        "id": "-EsxfcsoDAzB",
        "colab_type": "text"
      },
      "source": [
        "数据集来源：[Kaggle-top-spotify-songs-from-20102019-by-year](https://www.kaggle.com/leonardopena/top-spotify-songs-from-20102019-by-year)"
      ]
    },
    {
      "cell_type": "markdown",
      "metadata": {
        "id": "MaPNHCxaNCaD",
        "colab_type": "text"
      },
      "source": [
        "### 捉虫Debug：utf-8无法解码\n",
        "\n",
        "Kaggle 上下载的原始 CSV 文件，在读取时，Pandas 报错了“'utf-8' codec "
      ]
    },
    {
      "cell_type": "code",
      "metadata": {
        "id": "rhQAq_omDF3x",
        "colab_type": "code",
        "outputId": "59728fed-0b47-44ec-9d50-de6fa144085e",
        "colab": {
          "base_uri": "https://localhost:8080/",
          "height": 863
        }
      },
      "source": [
        "import pandas as pd\n",
        "\n",
        "DATASET_DIR = '/content/gdrive/My Drive/data/'\n",
        "top_10s = pd.read_csv(DATASET_DIR + \"spotify_top_2010_2019.csv\",index_col=0)"
      ],
      "execution_count": 0,
      "outputs": [
        {
          "output_type": "error",
          "ename": "UnicodeDecodeError",
          "evalue": "ignored",
          "traceback": [
            "\u001b[0;31m---------------------------------------------------------------------------\u001b[0m",
            "\u001b[0;31mUnicodeDecodeError\u001b[0m                        Traceback (most recent call last)",
            "\u001b[0;32mpandas/_libs/parsers.pyx\u001b[0m in \u001b[0;36mpandas._libs.parsers.TextReader._convert_tokens\u001b[0;34m()\u001b[0m\n",
            "\u001b[0;32mpandas/_libs/parsers.pyx\u001b[0m in \u001b[0;36mpandas._libs.parsers.TextReader._convert_with_dtype\u001b[0;34m()\u001b[0m\n",
            "\u001b[0;32mpandas/_libs/parsers.pyx\u001b[0m in \u001b[0;36mpandas._libs.parsers.TextReader._string_convert\u001b[0;34m()\u001b[0m\n",
            "\u001b[0;32mpandas/_libs/parsers.pyx\u001b[0m in \u001b[0;36mpandas._libs.parsers._string_box_utf8\u001b[0;34m()\u001b[0m\n",
            "\u001b[0;31mUnicodeDecodeError\u001b[0m: 'utf-8' codec can't decode byte 0x92 in position 8: invalid start byte",
            "\nDuring handling of the above exception, another exception occurred:\n",
            "\u001b[0;31mUnicodeDecodeError\u001b[0m                        Traceback (most recent call last)",
            "\u001b[0;32m<ipython-input-2-efa75cdf5128>\u001b[0m in \u001b[0;36m<module>\u001b[0;34m()\u001b[0m\n\u001b[1;32m      2\u001b[0m \u001b[0;34m\u001b[0m\u001b[0m\n\u001b[1;32m      3\u001b[0m \u001b[0mDATASET_DIR\u001b[0m \u001b[0;34m=\u001b[0m \u001b[0;34m'/content/gdrive/My Drive/data/'\u001b[0m\u001b[0;34m\u001b[0m\u001b[0;34m\u001b[0m\u001b[0m\n\u001b[0;32m----> 4\u001b[0;31m \u001b[0mtop_10s\u001b[0m \u001b[0;34m=\u001b[0m \u001b[0mpd\u001b[0m\u001b[0;34m.\u001b[0m\u001b[0mread_csv\u001b[0m\u001b[0;34m(\u001b[0m\u001b[0mDATASET_DIR\u001b[0m \u001b[0;34m+\u001b[0m \u001b[0;34m\"spotify_top_2010_2019.csv\"\u001b[0m\u001b[0;34m,\u001b[0m\u001b[0mindex_col\u001b[0m\u001b[0;34m=\u001b[0m\u001b[0;36m0\u001b[0m\u001b[0;34m)\u001b[0m\u001b[0;34m\u001b[0m\u001b[0;34m\u001b[0m\u001b[0m\n\u001b[0m",
            "\u001b[0;32m/usr/local/lib/python3.6/dist-packages/pandas/io/parsers.py\u001b[0m in \u001b[0;36mparser_f\u001b[0;34m(filepath_or_buffer, sep, delimiter, header, names, index_col, usecols, squeeze, prefix, mangle_dupe_cols, dtype, engine, converters, true_values, false_values, skipinitialspace, skiprows, skipfooter, nrows, na_values, keep_default_na, na_filter, verbose, skip_blank_lines, parse_dates, infer_datetime_format, keep_date_col, date_parser, dayfirst, cache_dates, iterator, chunksize, compression, thousands, decimal, lineterminator, quotechar, quoting, doublequote, escapechar, comment, encoding, dialect, error_bad_lines, warn_bad_lines, delim_whitespace, low_memory, memory_map, float_precision)\u001b[0m\n\u001b[1;32m    683\u001b[0m         )\n\u001b[1;32m    684\u001b[0m \u001b[0;34m\u001b[0m\u001b[0m\n\u001b[0;32m--> 685\u001b[0;31m         \u001b[0;32mreturn\u001b[0m \u001b[0m_read\u001b[0m\u001b[0;34m(\u001b[0m\u001b[0mfilepath_or_buffer\u001b[0m\u001b[0;34m,\u001b[0m \u001b[0mkwds\u001b[0m\u001b[0;34m)\u001b[0m\u001b[0;34m\u001b[0m\u001b[0;34m\u001b[0m\u001b[0m\n\u001b[0m\u001b[1;32m    686\u001b[0m \u001b[0;34m\u001b[0m\u001b[0m\n\u001b[1;32m    687\u001b[0m     \u001b[0mparser_f\u001b[0m\u001b[0;34m.\u001b[0m\u001b[0m__name__\u001b[0m \u001b[0;34m=\u001b[0m \u001b[0mname\u001b[0m\u001b[0;34m\u001b[0m\u001b[0;34m\u001b[0m\u001b[0m\n",
            "\u001b[0;32m/usr/local/lib/python3.6/dist-packages/pandas/io/parsers.py\u001b[0m in \u001b[0;36m_read\u001b[0;34m(filepath_or_buffer, kwds)\u001b[0m\n\u001b[1;32m    461\u001b[0m \u001b[0;34m\u001b[0m\u001b[0m\n\u001b[1;32m    462\u001b[0m     \u001b[0;32mtry\u001b[0m\u001b[0;34m:\u001b[0m\u001b[0;34m\u001b[0m\u001b[0;34m\u001b[0m\u001b[0m\n\u001b[0;32m--> 463\u001b[0;31m         \u001b[0mdata\u001b[0m \u001b[0;34m=\u001b[0m \u001b[0mparser\u001b[0m\u001b[0;34m.\u001b[0m\u001b[0mread\u001b[0m\u001b[0;34m(\u001b[0m\u001b[0mnrows\u001b[0m\u001b[0;34m)\u001b[0m\u001b[0;34m\u001b[0m\u001b[0;34m\u001b[0m\u001b[0m\n\u001b[0m\u001b[1;32m    464\u001b[0m     \u001b[0;32mfinally\u001b[0m\u001b[0;34m:\u001b[0m\u001b[0;34m\u001b[0m\u001b[0;34m\u001b[0m\u001b[0m\n\u001b[1;32m    465\u001b[0m         \u001b[0mparser\u001b[0m\u001b[0;34m.\u001b[0m\u001b[0mclose\u001b[0m\u001b[0;34m(\u001b[0m\u001b[0;34m)\u001b[0m\u001b[0;34m\u001b[0m\u001b[0;34m\u001b[0m\u001b[0m\n",
            "\u001b[0;32m/usr/local/lib/python3.6/dist-packages/pandas/io/parsers.py\u001b[0m in \u001b[0;36mread\u001b[0;34m(self, nrows)\u001b[0m\n\u001b[1;32m   1152\u001b[0m     \u001b[0;32mdef\u001b[0m \u001b[0mread\u001b[0m\u001b[0;34m(\u001b[0m\u001b[0mself\u001b[0m\u001b[0;34m,\u001b[0m \u001b[0mnrows\u001b[0m\u001b[0;34m=\u001b[0m\u001b[0;32mNone\u001b[0m\u001b[0;34m)\u001b[0m\u001b[0;34m:\u001b[0m\u001b[0;34m\u001b[0m\u001b[0;34m\u001b[0m\u001b[0m\n\u001b[1;32m   1153\u001b[0m         \u001b[0mnrows\u001b[0m \u001b[0;34m=\u001b[0m \u001b[0m_validate_integer\u001b[0m\u001b[0;34m(\u001b[0m\u001b[0;34m\"nrows\"\u001b[0m\u001b[0;34m,\u001b[0m \u001b[0mnrows\u001b[0m\u001b[0;34m)\u001b[0m\u001b[0;34m\u001b[0m\u001b[0;34m\u001b[0m\u001b[0m\n\u001b[0;32m-> 1154\u001b[0;31m         \u001b[0mret\u001b[0m \u001b[0;34m=\u001b[0m \u001b[0mself\u001b[0m\u001b[0;34m.\u001b[0m\u001b[0m_engine\u001b[0m\u001b[0;34m.\u001b[0m\u001b[0mread\u001b[0m\u001b[0;34m(\u001b[0m\u001b[0mnrows\u001b[0m\u001b[0;34m)\u001b[0m\u001b[0;34m\u001b[0m\u001b[0;34m\u001b[0m\u001b[0m\n\u001b[0m\u001b[1;32m   1155\u001b[0m \u001b[0;34m\u001b[0m\u001b[0m\n\u001b[1;32m   1156\u001b[0m         \u001b[0;31m# May alter columns / col_dict\u001b[0m\u001b[0;34m\u001b[0m\u001b[0;34m\u001b[0m\u001b[0;34m\u001b[0m\u001b[0m\n",
            "\u001b[0;32m/usr/local/lib/python3.6/dist-packages/pandas/io/parsers.py\u001b[0m in \u001b[0;36mread\u001b[0;34m(self, nrows)\u001b[0m\n\u001b[1;32m   2057\u001b[0m     \u001b[0;32mdef\u001b[0m \u001b[0mread\u001b[0m\u001b[0;34m(\u001b[0m\u001b[0mself\u001b[0m\u001b[0;34m,\u001b[0m \u001b[0mnrows\u001b[0m\u001b[0;34m=\u001b[0m\u001b[0;32mNone\u001b[0m\u001b[0;34m)\u001b[0m\u001b[0;34m:\u001b[0m\u001b[0;34m\u001b[0m\u001b[0;34m\u001b[0m\u001b[0m\n\u001b[1;32m   2058\u001b[0m         \u001b[0;32mtry\u001b[0m\u001b[0;34m:\u001b[0m\u001b[0;34m\u001b[0m\u001b[0;34m\u001b[0m\u001b[0m\n\u001b[0;32m-> 2059\u001b[0;31m             \u001b[0mdata\u001b[0m \u001b[0;34m=\u001b[0m \u001b[0mself\u001b[0m\u001b[0;34m.\u001b[0m\u001b[0m_reader\u001b[0m\u001b[0;34m.\u001b[0m\u001b[0mread\u001b[0m\u001b[0;34m(\u001b[0m\u001b[0mnrows\u001b[0m\u001b[0;34m)\u001b[0m\u001b[0;34m\u001b[0m\u001b[0;34m\u001b[0m\u001b[0m\n\u001b[0m\u001b[1;32m   2060\u001b[0m         \u001b[0;32mexcept\u001b[0m \u001b[0mStopIteration\u001b[0m\u001b[0;34m:\u001b[0m\u001b[0;34m\u001b[0m\u001b[0;34m\u001b[0m\u001b[0m\n\u001b[1;32m   2061\u001b[0m             \u001b[0;32mif\u001b[0m \u001b[0mself\u001b[0m\u001b[0;34m.\u001b[0m\u001b[0m_first_chunk\u001b[0m\u001b[0;34m:\u001b[0m\u001b[0;34m\u001b[0m\u001b[0;34m\u001b[0m\u001b[0m\n",
            "\u001b[0;32mpandas/_libs/parsers.pyx\u001b[0m in \u001b[0;36mpandas._libs.parsers.TextReader.read\u001b[0;34m()\u001b[0m\n",
            "\u001b[0;32mpandas/_libs/parsers.pyx\u001b[0m in \u001b[0;36mpandas._libs.parsers.TextReader._read_low_memory\u001b[0;34m()\u001b[0m\n",
            "\u001b[0;32mpandas/_libs/parsers.pyx\u001b[0m in \u001b[0;36mpandas._libs.parsers.TextReader._read_rows\u001b[0;34m()\u001b[0m\n",
            "\u001b[0;32mpandas/_libs/parsers.pyx\u001b[0m in \u001b[0;36mpandas._libs.parsers.TextReader._convert_column_data\u001b[0;34m()\u001b[0m\n",
            "\u001b[0;32mpandas/_libs/parsers.pyx\u001b[0m in \u001b[0;36mpandas._libs.parsers.TextReader._convert_tokens\u001b[0;34m()\u001b[0m\n",
            "\u001b[0;32mpandas/_libs/parsers.pyx\u001b[0m in \u001b[0;36mpandas._libs.parsers.TextReader._convert_with_dtype\u001b[0;34m()\u001b[0m\n",
            "\u001b[0;32mpandas/_libs/parsers.pyx\u001b[0m in \u001b[0;36mpandas._libs.parsers.TextReader._string_convert\u001b[0;34m()\u001b[0m\n",
            "\u001b[0;32mpandas/_libs/parsers.pyx\u001b[0m in \u001b[0;36mpandas._libs.parsers._string_box_utf8\u001b[0;34m()\u001b[0m\n",
            "\u001b[0;31mUnicodeDecodeError\u001b[0m: 'utf-8' codec can't decode byte 0x92 in position 8: invalid start byte"
          ]
        }
      ]
    },
    {
      "cell_type": "markdown",
      "metadata": {
        "id": "hEktb7tjE693",
        "colab_type": "text"
      },
      "source": [
        "解法：\n",
        "\n",
        "笔者在 stackoverflow上寻求解决办法，在网页“https://stackoverflow.com/questions/12468179/unicodedecodeerror-utf8-codec-cant-decode-byte-0x9c ”中的高赞回答得知，在 Pandas读取 CSV 文件时，添加参数 engine='python'即可\n",
        "\n",
        "`pd.read_csv(gdp_path, sep='\\t', engine='python')`"
      ]
    },
    {
      "cell_type": "code",
      "metadata": {
        "id": "zzVqgkqxAm2R",
        "colab_type": "code",
        "colab": {}
      },
      "source": [
        "import pandas as pd\n",
        "\n",
        "DATASET_DIR = '/content/gdrive/My Drive/data/'\n",
        "top_10s = pd.read_csv(DATASET_DIR + \"spotify_top_2010_2019.csv\", \n",
        "                      engine='python',index_col=0)"
      ],
      "execution_count": 0,
      "outputs": []
    },
    {
      "cell_type": "markdown",
      "metadata": {
        "id": "RlBEOpOgKk2j",
        "colab_type": "text"
      },
      "source": [
        "## 数据表概览"
      ]
    },
    {
      "cell_type": "code",
      "metadata": {
        "id": "yqRrWHEoHuqN",
        "colab_type": "code",
        "outputId": "be41da08-0827-4a9b-9ad8-8f45098c5b53",
        "colab": {
          "base_uri": "https://localhost:8080/",
          "height": 34
        }
      },
      "source": [
        "top_10s.shape"
      ],
      "execution_count": 0,
      "outputs": [
        {
          "output_type": "execute_result",
          "data": {
            "text/plain": [
              "(603, 14)"
            ]
          },
          "metadata": {
            "tags": []
          },
          "execution_count": 4
        }
      ]
    },
    {
      "cell_type": "code",
      "metadata": {
        "id": "6OpH9HBMHxob",
        "colab_type": "code",
        "outputId": "01366ded-749f-4b11-9733-d122811c1016",
        "colab": {
          "base_uri": "https://localhost:8080/",
          "height": 351
        }
      },
      "source": [
        "top_10s.info()"
      ],
      "execution_count": 0,
      "outputs": [
        {
          "output_type": "stream",
          "text": [
            "<class 'pandas.core.frame.DataFrame'>\n",
            "Int64Index: 603 entries, 1 to 603\n",
            "Data columns (total 14 columns):\n",
            "title        603 non-null object\n",
            "artist       603 non-null object\n",
            "top genre    603 non-null object\n",
            "year         603 non-null int64\n",
            "bpm          603 non-null int64\n",
            "nrgy         603 non-null int64\n",
            "dnce         603 non-null int64\n",
            "dB           603 non-null int64\n",
            "live         603 non-null int64\n",
            "val          603 non-null int64\n",
            "dur          603 non-null int64\n",
            "acous        603 non-null int64\n",
            "spch         603 non-null int64\n",
            "pop          603 non-null int64\n",
            "dtypes: int64(11), object(3)\n",
            "memory usage: 70.7+ KB\n"
          ],
          "name": "stdout"
        }
      ]
    },
    {
      "cell_type": "markdown",
      "metadata": {
        "id": "q2yP1EMoIqWn",
        "colab_type": "text"
      },
      "source": [
        "数据列（columns）说明:\n",
        "\n",
        "- title：歌名\n",
        "- artist：艺术家\n",
        "- top genre: 音轨（歌曲）的类型\n",
        "- year：Billboard打榜年份\n",
        "- bpm：每分钟的节拍，歌曲的速度。\n",
        "- nrgy：歌曲的能量，数值越高，越有活力。\n",
        "- dnce：“可跳舞指数”，数值越高，越容易随歌而舞。\n",
        "- dB：数值越高，音量越高\n",
        "- live：现场指数，数值越高，这首歌越可能是一个现场录音。\n",
        "- dur：歌曲时长\n",
        "- acous：原声指数，数值越高，歌曲的原声（“由真实乐器天然产生的”）元素越多\n",
        "- spch：口语指数，数值越高，歌曲的口语元素越多 \n",
        "- pop：流行指数，数值越高，歌曲的越流行。"
      ]
    },
    {
      "cell_type": "code",
      "metadata": {
        "id": "xxKl3yX7M6iW",
        "colab_type": "code",
        "outputId": "52815fc9-f646-4bb0-ec46-9c6c5bc42892",
        "colab": {
          "base_uri": "https://localhost:8080/",
          "height": 195
        }
      },
      "source": [
        "top_10s.head()"
      ],
      "execution_count": 0,
      "outputs": [
        {
          "output_type": "execute_result",
          "data": {
            "text/html": [
              "<div>\n",
              "<style scoped>\n",
              "    .dataframe tbody tr th:only-of-type {\n",
              "        vertical-align: middle;\n",
              "    }\n",
              "\n",
              "    .dataframe tbody tr th {\n",
              "        vertical-align: top;\n",
              "    }\n",
              "\n",
              "    .dataframe thead th {\n",
              "        text-align: right;\n",
              "    }\n",
              "</style>\n",
              "<table border=\"1\" class=\"dataframe\">\n",
              "  <thead>\n",
              "    <tr style=\"text-align: right;\">\n",
              "      <th></th>\n",
              "      <th>title</th>\n",
              "      <th>artist</th>\n",
              "      <th>top genre</th>\n",
              "      <th>year</th>\n",
              "      <th>bpm</th>\n",
              "      <th>nrgy</th>\n",
              "      <th>dnce</th>\n",
              "      <th>dB</th>\n",
              "      <th>live</th>\n",
              "      <th>val</th>\n",
              "      <th>dur</th>\n",
              "      <th>acous</th>\n",
              "      <th>spch</th>\n",
              "      <th>pop</th>\n",
              "    </tr>\n",
              "  </thead>\n",
              "  <tbody>\n",
              "    <tr>\n",
              "      <th>1</th>\n",
              "      <td>Hey, Soul Sister</td>\n",
              "      <td>Train</td>\n",
              "      <td>neo mellow</td>\n",
              "      <td>2010</td>\n",
              "      <td>97</td>\n",
              "      <td>89</td>\n",
              "      <td>67</td>\n",
              "      <td>-4</td>\n",
              "      <td>8</td>\n",
              "      <td>80</td>\n",
              "      <td>217</td>\n",
              "      <td>19</td>\n",
              "      <td>4</td>\n",
              "      <td>83</td>\n",
              "    </tr>\n",
              "    <tr>\n",
              "      <th>2</th>\n",
              "      <td>Love The Way You Lie</td>\n",
              "      <td>Eminem</td>\n",
              "      <td>detroit hip hop</td>\n",
              "      <td>2010</td>\n",
              "      <td>87</td>\n",
              "      <td>93</td>\n",
              "      <td>75</td>\n",
              "      <td>-5</td>\n",
              "      <td>52</td>\n",
              "      <td>64</td>\n",
              "      <td>263</td>\n",
              "      <td>24</td>\n",
              "      <td>23</td>\n",
              "      <td>82</td>\n",
              "    </tr>\n",
              "    <tr>\n",
              "      <th>3</th>\n",
              "      <td>TiK ToK</td>\n",
              "      <td>Kesha</td>\n",
              "      <td>dance pop</td>\n",
              "      <td>2010</td>\n",
              "      <td>120</td>\n",
              "      <td>84</td>\n",
              "      <td>76</td>\n",
              "      <td>-3</td>\n",
              "      <td>29</td>\n",
              "      <td>71</td>\n",
              "      <td>200</td>\n",
              "      <td>10</td>\n",
              "      <td>14</td>\n",
              "      <td>80</td>\n",
              "    </tr>\n",
              "    <tr>\n",
              "      <th>4</th>\n",
              "      <td>Bad Romance</td>\n",
              "      <td>Lady Gaga</td>\n",
              "      <td>dance pop</td>\n",
              "      <td>2010</td>\n",
              "      <td>119</td>\n",
              "      <td>92</td>\n",
              "      <td>70</td>\n",
              "      <td>-4</td>\n",
              "      <td>8</td>\n",
              "      <td>71</td>\n",
              "      <td>295</td>\n",
              "      <td>0</td>\n",
              "      <td>4</td>\n",
              "      <td>79</td>\n",
              "    </tr>\n",
              "    <tr>\n",
              "      <th>5</th>\n",
              "      <td>Just the Way You Are</td>\n",
              "      <td>Bruno Mars</td>\n",
              "      <td>pop</td>\n",
              "      <td>2010</td>\n",
              "      <td>109</td>\n",
              "      <td>84</td>\n",
              "      <td>64</td>\n",
              "      <td>-5</td>\n",
              "      <td>9</td>\n",
              "      <td>43</td>\n",
              "      <td>221</td>\n",
              "      <td>2</td>\n",
              "      <td>4</td>\n",
              "      <td>78</td>\n",
              "    </tr>\n",
              "  </tbody>\n",
              "</table>\n",
              "</div>"
            ],
            "text/plain": [
              "                  title      artist        top genre  ...  acous  spch  pop\n",
              "1      Hey, Soul Sister       Train       neo mellow  ...     19     4   83\n",
              "2  Love The Way You Lie      Eminem  detroit hip hop  ...     24    23   82\n",
              "3               TiK ToK       Kesha        dance pop  ...     10    14   80\n",
              "4           Bad Romance   Lady Gaga        dance pop  ...      0     4   79\n",
              "5  Just the Way You Are  Bruno Mars              pop  ...      2     4   78\n",
              "\n",
              "[5 rows x 14 columns]"
            ]
          },
          "metadata": {
            "tags": []
          },
          "execution_count": 6
        }
      ]
    },
    {
      "cell_type": "markdown",
      "metadata": {
        "id": "oWfWFrOyGgF-",
        "colab_type": "text"
      },
      "source": [
        "## EDA数据探索问题：\n",
        "\n",
        "上次，笔者简单地分析了 [2019 年 Spotify 最热歌曲](https://adi0229.github.io/2020/01/02/2020-01-02-pandas-top25-tricks/)。\n",
        "这一次，笔者收集到的是 Spotify 的 2010-2019 年的最热流行歌曲。\n",
        "\n",
        "问题来了：\n",
        "\n",
        "既然 2019 年的 top 歌曲里头，歌曲类型（genre）是 dance pop 的歌曲频率最高。\n",
        "\n",
        "那么，过去十年，是否也是 dance pop 的歌曲类型在 Spotify 最流行呢？\n",
        "而且，随着年份的变迁，流行的歌曲类型，是否也有所变化?\n"
      ]
    },
    {
      "cell_type": "markdown",
      "metadata": {
        "id": "q6ffzHvPDFHQ",
        "colab_type": "text"
      },
      "source": [
        ""
      ]
    },
    {
      "cell_type": "code",
      "metadata": {
        "id": "_AjZsf-GEG1Z",
        "colab_type": "code",
        "outputId": "830a0093-d41e-4d13-f218-d4db5fed6147",
        "colab": {
          "base_uri": "https://localhost:8080/",
          "height": 210
        }
      },
      "source": [
        "top10_genres = top_10s['top genre'].value_counts()[:10]\n",
        "top10_genres"
      ],
      "execution_count": 0,
      "outputs": [
        {
          "output_type": "execute_result",
          "data": {
            "text/plain": [
              "dance pop                    327\n",
              "pop                           60\n",
              "canadian pop                  34\n",
              "barbadian pop                 15\n",
              "boy band                      15\n",
              "electropop                    13\n",
              "british soul                  11\n",
              "big room                      10\n",
              "neo mellow                     9\n",
              "canadian contemporary r&b      9\n",
              "Name: top genre, dtype: int64"
            ]
          },
          "metadata": {
            "tags": []
          },
          "execution_count": 7
        }
      ]
    },
    {
      "cell_type": "markdown",
      "metadata": {
        "id": "KdaA6GCEP_o2",
        "colab_type": "text"
      },
      "source": [
        "通过查看其它年份的数据，交叉验证得知，Spotify音乐平台里，dance pop就是惹人爱的，过去 10 年，327首打榜热歌，都是dance pop，第二多的类型是常规流行歌曲 pop。"
      ]
    },
    {
      "cell_type": "code",
      "metadata": {
        "id": "wCZ8a202QcSM",
        "colab_type": "code",
        "outputId": "87bd2808-b142-4bb7-cddc-6b57127698b0",
        "colab": {
          "base_uri": "https://localhost:8080/",
          "height": 295
        }
      },
      "source": [
        "import matplotlib.pyplot as plt\n",
        "\n",
        "plt.bar(top10_genres[:4].index, top10_genres[:4], color = 'red',\n",
        "        alpha=0.6, align = 'center') \n",
        "plt.title(\"2010-2019 Spotify Top Song's Genre\") \n",
        "plt.ylabel('Counts') \n",
        "plt.xlabel('Genre') \n",
        "plt.show()"
      ],
      "execution_count": 0,
      "outputs": [
        {
          "output_type": "display_data",
          "data": {
            "image/png": "[encoded data removed]",
            "text/plain": [
              "<Figure size 432x288 with 1 Axes>"
            ]
          },
          "metadata": {
            "tags": []
          }
        }
      ]
    },
    {
      "cell_type": "markdown",
      "metadata": {
        "id": "WPM6AjMyf8PZ",
        "colab_type": "text"
      },
      "source": [
        "继续提问：\n",
        "\n",
        "每一年的热门歌曲的风格，哪一种最多呢？\n"
      ]
    },
    {
      "cell_type": "code",
      "metadata": {
        "id": "1N-YgVvLRwQI",
        "colab_type": "code",
        "outputId": "72538584-5769-4788-9083-3080df2d04f2",
        "colab": {
          "base_uri": "https://localhost:8080/",
          "height": 1000
        }
      },
      "source": [
        "for year in top_10s.year.unique():\n",
        "  print('Year:', year)\n",
        "  single_year_top = top_10s[top_10s.year == year]\n",
        "  top_genres = single_year_top['top genre'].value_counts()[:10]\n",
        "  plt.bar(top_genres[:4].index, top_genres[:4], color = 'red',\n",
        "        alpha=0.6, align = 'center') \n",
        "  plt.title(f\"{year} Spotify Top Song's Genre\") \n",
        "  plt.ylabel('Counts') \n",
        "  plt.xlabel('Genre') \n",
        "  plt.show() "
      ],
      "execution_count": 0,
      "outputs": [
        {
          "output_type": "stream",
          "text": [
            "Year: 2010\n"
          ],
          "name": "stdout"
        },
        {
          "output_type": "display_data",
          "data": {
            "image/png": "[encoded data removed]",
            "text/plain": [
              "<Figure size 432x288 with 1 Axes>"
            ]
          },
          "metadata": {
            "tags": []
          }
        },
        {
          "output_type": "stream",
          "text": [
            "Year: 2011\n"
          ],
          "name": "stdout"
        },
        {
          "output_type": "display_data",
          "data": {
            "image/png": "[encoded data removed]",
            "text/plain": [
              "<Figure size 432x288 with 1 Axes>"
            ]
          },
          "metadata": {
            "tags": []
          }
        },
        {
          "output_type": "stream",
          "text": [
            "Year: 2012\n"
          ],
          "name": "stdout"
        },
        {
          "output_type": "display_data",
          "data": {
            "image/png": "[encoded data removed]",
            "text/plain": [
              "<Figure size 432x288 with 1 Axes>"
            ]
          },
          "metadata": {
            "tags": []
          }
        },
        {
          "output_type": "stream",
          "text": [
            "Year: 2013\n"
          ],
          "name": "stdout"
        },
        {
          "output_type": "display_data",
          "data": {
            "image/png": "[encoded data removed]",
            "text/plain": [
              "<Figure size 432x288 with 1 Axes>"
            ]
          },
          "metadata": {
            "tags": []
          }
        },
        {
          "output_type": "stream",
          "text": [
            "Year: 2014\n"
          ],
          "name": "stdout"
        },
        {
          "output_type": "display_data",
          "data": {
            "image/png": "[encoded data removed]",
            "text/plain": [
              "<Figure size 432x288 with 1 Axes>"
            ]
          },
          "metadata": {
            "tags": []
          }
        },
        {
          "output_type": "stream",
          "text": [
            "Year: 2015\n"
          ],
          "name": "stdout"
        },
        {
          "output_type": "display_data",
          "data": {
            "image/png": "[encoded data removed]",
            "text/plain": [
              "<Figure size 432x288 with 1 Axes>"
            ]
          },
          "metadata": {
            "tags": []
          }
        },
        {
          "output_type": "stream",
          "text": [
            "Year: 2016\n"
          ],
          "name": "stdout"
        },
        {
          "output_type": "display_data",
          "data": {
            "image/png": "[encoded data removed]",
            "text/plain": [
              "<Figure size 432x288 with 1 Axes>"
            ]
          },
          "metadata": {
            "tags": []
          }
        },
        {
          "output_type": "stream",
          "text": [
            "Year: 2017\n"
          ],
          "name": "stdout"
        },
        {
          "output_type": "display_data",
          "data": {
            "image/png": "[encoded data removed]",
            "text/plain": [
              "<Figure size 432x288 with 1 Axes>"
            ]
          },
          "metadata": {
            "tags": []
          }
        },
        {
          "output_type": "stream",
          "text": [
            "Year: 2018\n"
          ],
          "name": "stdout"
        },
        {
          "output_type": "display_data",
          "data": {
            "image/png": "[encoded data removed]",
            "text/plain": [
              "<Figure size 432x288 with 1 Axes>"
            ]
          },
          "metadata": {
            "tags": []
          }
        },
        {
          "output_type": "stream",
          "text": [
            "Year: 2019\n"
          ],
          "name": "stdout"
        },
        {
          "output_type": "display_data",
          "data": {
            "image/png": "[encoded data removed]",
            "text/plain": [
              "<Figure size 432x288 with 1 Axes>"
            ]
          },
          "metadata": {
            "tags": []
          }
        }
      ]
    },
    {
      "cell_type": "markdown",
      "metadata": {
        "id": "KTI3RnGfRbgs",
        "colab_type": "text"
      },
      "source": [
        "笔者喜欢听现场音乐，有时候，对音质略显粗糙的现场录音也情有独钟。\n",
        "\n",
        "继续提问：\n",
        "\n",
        "这些热门歌曲，其中的现场录音的“感觉”多吗？\n"
      ]
    },
    {
      "cell_type": "code",
      "metadata": {
        "id": "piwOhoHxgZ4N",
        "colab_type": "code",
        "outputId": "2afb8666-10c5-4bb7-8b4c-f9e8986ece1f",
        "colab": {
          "base_uri": "https://localhost:8080/",
          "height": 70
        }
      },
      "source": [
        "top_10s.columns"
      ],
      "execution_count": 0,
      "outputs": [
        {
          "output_type": "execute_result",
          "data": {
            "text/plain": [
              "Index(['title', 'artist', 'top genre', 'year', 'bpm', 'nrgy', 'dnce', 'dB',\n",
              "       'live', 'val', 'dur', 'acous', 'spch', 'pop'],\n",
              "      dtype='object')"
            ]
          },
          "metadata": {
            "tags": []
          },
          "execution_count": 25
        }
      ]
    },
    {
      "cell_type": "code",
      "metadata": {
        "id": "4tMxmLvFgjhc",
        "colab_type": "code",
        "outputId": "261e6535-eb35-44fb-95ca-2850d6a7522b",
        "colab": {
          "base_uri": "https://localhost:8080/",
          "height": 175
        }
      },
      "source": [
        "top_10s['live'].describe()"
      ],
      "execution_count": 0,
      "outputs": [
        {
          "output_type": "execute_result",
          "data": {
            "text/plain": [
              "count    603.000000\n",
              "mean      17.774461\n",
              "std       13.102543\n",
              "min        0.000000\n",
              "25%        9.000000\n",
              "50%       12.000000\n",
              "75%       24.000000\n",
              "max       74.000000\n",
              "Name: live, dtype: float64"
            ]
          },
          "metadata": {
            "tags": []
          },
          "execution_count": 27
        }
      ]
    },
    {
      "cell_type": "code",
      "metadata": {
        "id": "rE7DUevAOyjk",
        "colab_type": "code",
        "outputId": "60120cb5-a513-4b24-fb22-878dfd210e7e",
        "colab": {
          "base_uri": "https://localhost:8080/",
          "height": 373
        }
      },
      "source": [
        "top_10s.pivot_table(values='live',index='year',aggfunc='mean')"
      ],
      "execution_count": 0,
      "outputs": [
        {
          "output_type": "execute_result",
          "data": {
            "text/html": [
              "<div>\n",
              "<style scoped>\n",
              "    .dataframe tbody tr th:only-of-type {\n",
              "        vertical-align: middle;\n",
              "    }\n",
              "\n",
              "    .dataframe tbody tr th {\n",
              "        vertical-align: top;\n",
              "    }\n",
              "\n",
              "    .dataframe thead th {\n",
              "        text-align: right;\n",
              "    }\n",
              "</style>\n",
              "<table border=\"1\" class=\"dataframe\">\n",
              "  <thead>\n",
              "    <tr style=\"text-align: right;\">\n",
              "      <th></th>\n",
              "      <th>live</th>\n",
              "    </tr>\n",
              "    <tr>\n",
              "      <th>year</th>\n",
              "      <th></th>\n",
              "    </tr>\n",
              "  </thead>\n",
              "  <tbody>\n",
              "    <tr>\n",
              "      <th>2010</th>\n",
              "      <td>21.176471</td>\n",
              "    </tr>\n",
              "    <tr>\n",
              "      <th>2011</th>\n",
              "      <td>20.943396</td>\n",
              "    </tr>\n",
              "    <tr>\n",
              "      <th>2012</th>\n",
              "      <td>15.828571</td>\n",
              "    </tr>\n",
              "    <tr>\n",
              "      <th>2013</th>\n",
              "      <td>19.718310</td>\n",
              "    </tr>\n",
              "    <tr>\n",
              "      <th>2014</th>\n",
              "      <td>17.293103</td>\n",
              "    </tr>\n",
              "    <tr>\n",
              "      <th>2015</th>\n",
              "      <td>18.305263</td>\n",
              "    </tr>\n",
              "    <tr>\n",
              "      <th>2016</th>\n",
              "      <td>17.737500</td>\n",
              "    </tr>\n",
              "    <tr>\n",
              "      <th>2017</th>\n",
              "      <td>15.369231</td>\n",
              "    </tr>\n",
              "    <tr>\n",
              "      <th>2018</th>\n",
              "      <td>14.750000</td>\n",
              "    </tr>\n",
              "    <tr>\n",
              "      <th>2019</th>\n",
              "      <td>15.161290</td>\n",
              "    </tr>\n",
              "  </tbody>\n",
              "</table>\n",
              "</div>"
            ],
            "text/plain": [
              "           live\n",
              "year           \n",
              "2010  21.176471\n",
              "2011  20.943396\n",
              "2012  15.828571\n",
              "2013  19.718310\n",
              "2014  17.293103\n",
              "2015  18.305263\n",
              "2016  17.737500\n",
              "2017  15.369231\n",
              "2018  14.750000\n",
              "2019  15.161290"
            ]
          },
          "metadata": {
            "tags": []
          },
          "execution_count": 26
        }
      ]
    },
    {
      "cell_type": "code",
      "metadata": {
        "id": "Rs-m5DCPgvwu",
        "colab_type": "code",
        "outputId": "791fc31c-9549-48c8-be13-4006d16d8913",
        "colab": {
          "base_uri": "https://localhost:8080/",
          "height": 279
        }
      },
      "source": [
        "import seaborn as sns\n",
        "\n",
        "sns.distplot(top_10s['live'],bins=10,kde=True,\n",
        "             kde_kws={\"color\": \"k\", \"lw\": 2, \n",
        "                      \"label\": \"Kernel density estimation\"},color='yellow')\n",
        "plt.show()"
      ],
      "execution_count": 0,
      "outputs": [
        {
          "output_type": "display_data",
          "data": {
            "image/png": "[encoded data removed]",
            "text/plain": [
              "<Figure size 432x288 with 1 Axes>"
            ]
          },
          "metadata": {
            "tags": []
          }
        }
      ]
    },
    {
      "cell_type": "markdown",
      "metadata": {
        "id": "KzGnJGI3hoq8",
        "colab_type": "text"
      },
      "source": [
        "背景知识：\n",
        "\n",
        "核密度估计（kernel density estimation）\n",
        "\n",
        ">所谓核密度估计，就是采用平滑的峰值函数(“核”)来拟合观察到的数据点，从而对真实的概率分布曲线进行模拟。\n",
        "\n",
        ">核密度函数就是一种“平滑(smooth)”的手段。相当于是“我说我很牛逼你可能不信，但你可以听听我的朋友们是怎么评价我的，加权平均下就能更好地了解我了”。\n",
        "\n",
        "Ref：[核密度估计（kernel density estimation）](https://lotabout.me/2018/kernel-density-estimation/) [一维数据可视化：核密度估计(Kernel Density Estimates)](http://blog.shaochuancs.com/statistics-kde/)"
      ]
    },
    {
      "cell_type": "markdown",
      "metadata": {
        "id": "SeOWsesm3rPr",
        "colab_type": "text"
      },
      "source": [
        "但是，直方图和核密度函数估计的是某个数据值的概率分布，我们想看看数据的累计分布,回答这些问题：\n",
        "\n",
        "- 某年在总统选举，投票某位候选人A的比例超过一半的州，在所有选举州里面，占比是多少？\n",
        "\n",
        "这里，我试着提出一个问题：\n",
        "\n",
        "- live 属性方面，live超过平均值的歌曲，所占的比例多大？\n",
        "\n",
        "这时候，累积分布函数（Cumulative Distribution Function，简写CDF）就派上用场了。\n",
        "\n",
        "\n",
        "Ref：\n",
        "\n",
        "\n",
        "[Chuan's blog:一维数据可视化：累积分布函数](http://blog.shaochuancs.com/statistics-cdf/)"
      ]
    },
    {
      "cell_type": "code",
      "metadata": {
        "id": "8FAWNdR76ARp",
        "colab_type": "code",
        "outputId": "7314b666-31b2-4ac3-fba2-4eba62490ba8",
        "colab": {
          "base_uri": "https://localhost:8080/",
          "height": 298
        }
      },
      "source": [
        "# Python画图累积分布函数\n",
        "\n",
        "# from scipy import stats\n",
        "# import numpy as np\n",
        "\n",
        "# res = stats.cumfreq(top_10s['live'])\n",
        "\n",
        "# x = res.lowerlimit + np.linspace(0, res.binsize*res.cumcount.size,\n",
        "#                                  res.cumcount.size)\n",
        "\n",
        "# fig = plt.figure(figsize=(10, 4))\n",
        "# ax1 = fig.add_subplot(1, 2, 1)\n",
        "# ax2 = fig.add_subplot(1, 2, 2)\n",
        "# ax1.hist(top_10s['live'], bins=25)\n",
        "# ax1.set_title('Histogram')\n",
        "# ax2.bar(x, res.cumcount, width=res.binsize)\n",
        "# ax2.set_title('Cumulative histogram')\n",
        "# ax2.set_xlim([x.min(), x.max()])"
      ],
      "execution_count": 0,
      "outputs": [
        {
          "output_type": "execute_result",
          "data": {
            "text/plain": [
              "(-4.111111111111111, 78.11111111111111)"
            ]
          },
          "metadata": {
            "tags": []
          },
          "execution_count": 36
        },
        {
          "output_type": "display_data",
          "data": {
            "image/png": "[encoded data removed]",
            "text/plain": [
              "<Figure size 720x288 with 2 Axes>"
            ]
          },
          "metadata": {
            "tags": []
          }
        }
      ]
    },
    {
      "cell_type": "markdown",
      "metadata": {
        "id": "bhKVVKbY_LeC",
        "colab_type": "text"
      },
      "source": [
        "问题又来了：\n",
        "\n",
        "在DataCamp的ython统计思维课程上的学到的概念， ECDF(Empirical Cumulative Distribution Function)，它与 CDF 有何区别？\n",
        "\n",
        "[empirical-cdf-vs-cdf](https://stats.stackexchange.com/questions/239937/empirical-cdf-vs-cdf)这篇帖子介绍了两者的区别：\n",
        "\n",
        "ECDF经验性累积分布函数是从样本中推断的整体的累计分布函数，因为它是经验性的从观察实例得出，而不是纯理论思辨得出的，所以叫“Empirical”。"
      ]
    },
    {
      "cell_type": "markdown",
      "metadata": {
        "id": "yYsxerbHGTkb",
        "colab_type": "text"
      },
      "source": [
        "# 蜜蜂群图（bee swam plot）"
      ]
    },
    {
      "cell_type": "markdown",
      "metadata": {
        "id": "g9X7GDWVIBcr",
        "colab_type": "text"
      },
      "source": [
        "2010-2014年 VS 2015-2019年\n"
      ]
    },
    {
      "cell_type": "code",
      "metadata": {
        "id": "654CsJzLJ2l3",
        "colab_type": "code",
        "outputId": "23971ff2-dba8-4243-8a53-707980e328c7",
        "colab": {
          "base_uri": "https://localhost:8080/",
          "height": 34
        }
      },
      "source": [
        "list(range(2010,2015))"
      ],
      "execution_count": 0,
      "outputs": [
        {
          "output_type": "execute_result",
          "data": {
            "text/plain": [
              "[2010, 2011, 2012, 2013, 2014]"
            ]
          },
          "metadata": {
            "tags": []
          },
          "execution_count": 45
        }
      ]
    },
    {
      "cell_type": "code",
      "metadata": {
        "id": "wi0BTFcOIB8B",
        "colab_type": "code",
        "outputId": "ecd2de69-0766-4fd5-cd6e-b05735b41885",
        "colab": {
          "base_uri": "https://localhost:8080/",
          "height": 195
        }
      },
      "source": [
        "# 只查看2010年-2015年的歌曲\n",
        "\n",
        "top_10_14 = top_10s[top_10s.year.isin(list(range(2010,2015)))]\n",
        "top_15_19 = top_10s[~top_10s.year.isin(list(range(2010,2015)))]\n",
        "top_15_19.head()"
      ],
      "execution_count": 0,
      "outputs": [
        {
          "output_type": "execute_result",
          "data": {
            "text/html": [
              "<div>\n",
              "<style scoped>\n",
              "    .dataframe tbody tr th:only-of-type {\n",
              "        vertical-align: middle;\n",
              "    }\n",
              "\n",
              "    .dataframe tbody tr th {\n",
              "        vertical-align: top;\n",
              "    }\n",
              "\n",
              "    .dataframe thead th {\n",
              "        text-align: right;\n",
              "    }\n",
              "</style>\n",
              "<table border=\"1\" class=\"dataframe\">\n",
              "  <thead>\n",
              "    <tr style=\"text-align: right;\">\n",
              "      <th></th>\n",
              "      <th>title</th>\n",
              "      <th>artist</th>\n",
              "      <th>top genre</th>\n",
              "      <th>year</th>\n",
              "      <th>bpm</th>\n",
              "      <th>nrgy</th>\n",
              "      <th>dnce</th>\n",
              "      <th>dB</th>\n",
              "      <th>live</th>\n",
              "      <th>val</th>\n",
              "      <th>dur</th>\n",
              "      <th>acous</th>\n",
              "      <th>spch</th>\n",
              "      <th>pop</th>\n",
              "    </tr>\n",
              "  </thead>\n",
              "  <tbody>\n",
              "    <tr>\n",
              "      <th>269</th>\n",
              "      <td>Thinking out Loud</td>\n",
              "      <td>Ed Sheeran</td>\n",
              "      <td>pop</td>\n",
              "      <td>2015</td>\n",
              "      <td>79</td>\n",
              "      <td>45</td>\n",
              "      <td>78</td>\n",
              "      <td>-6</td>\n",
              "      <td>18</td>\n",
              "      <td>59</td>\n",
              "      <td>282</td>\n",
              "      <td>47</td>\n",
              "      <td>3</td>\n",
              "      <td>84</td>\n",
              "    </tr>\n",
              "    <tr>\n",
              "      <th>270</th>\n",
              "      <td>I'm Not The Only One</td>\n",
              "      <td>Sam Smith</td>\n",
              "      <td>pop</td>\n",
              "      <td>2015</td>\n",
              "      <td>82</td>\n",
              "      <td>49</td>\n",
              "      <td>68</td>\n",
              "      <td>-6</td>\n",
              "      <td>8</td>\n",
              "      <td>49</td>\n",
              "      <td>239</td>\n",
              "      <td>53</td>\n",
              "      <td>4</td>\n",
              "      <td>84</td>\n",
              "    </tr>\n",
              "    <tr>\n",
              "      <th>271</th>\n",
              "      <td>The Hills</td>\n",
              "      <td>The Weeknd</td>\n",
              "      <td>canadian contemporary r&amp;b</td>\n",
              "      <td>2015</td>\n",
              "      <td>113</td>\n",
              "      <td>56</td>\n",
              "      <td>58</td>\n",
              "      <td>-7</td>\n",
              "      <td>14</td>\n",
              "      <td>14</td>\n",
              "      <td>242</td>\n",
              "      <td>7</td>\n",
              "      <td>5</td>\n",
              "      <td>84</td>\n",
              "    </tr>\n",
              "    <tr>\n",
              "      <th>272</th>\n",
              "      <td>Love Yourself</td>\n",
              "      <td>Justin Bieber</td>\n",
              "      <td>canadian pop</td>\n",
              "      <td>2015</td>\n",
              "      <td>100</td>\n",
              "      <td>38</td>\n",
              "      <td>61</td>\n",
              "      <td>-10</td>\n",
              "      <td>28</td>\n",
              "      <td>52</td>\n",
              "      <td>234</td>\n",
              "      <td>84</td>\n",
              "      <td>44</td>\n",
              "      <td>83</td>\n",
              "    </tr>\n",
              "    <tr>\n",
              "      <th>273</th>\n",
              "      <td>Uptown Funk</td>\n",
              "      <td>Mark Ronson</td>\n",
              "      <td>dance pop</td>\n",
              "      <td>2015</td>\n",
              "      <td>115</td>\n",
              "      <td>61</td>\n",
              "      <td>86</td>\n",
              "      <td>-7</td>\n",
              "      <td>3</td>\n",
              "      <td>93</td>\n",
              "      <td>270</td>\n",
              "      <td>1</td>\n",
              "      <td>8</td>\n",
              "      <td>82</td>\n",
              "    </tr>\n",
              "  </tbody>\n",
              "</table>\n",
              "</div>"
            ],
            "text/plain": [
              "                    title         artist  ... spch  pop\n",
              "269     Thinking out Loud     Ed Sheeran  ...    3   84\n",
              "270  I'm Not The Only One      Sam Smith  ...    4   84\n",
              "271             The Hills     The Weeknd  ...    5   84\n",
              "272         Love Yourself  Justin Bieber  ...   44   83\n",
              "273           Uptown Funk    Mark Ronson  ...    8   82\n",
              "\n",
              "[5 rows x 14 columns]"
            ]
          },
          "metadata": {
            "tags": []
          },
          "execution_count": 47
        }
      ]
    },
    {
      "cell_type": "code",
      "metadata": {
        "id": "jXMzh7e_Jqk8",
        "colab_type": "code",
        "outputId": "1a4b3ccf-7160-4fb5-e13a-2192fbc176d8",
        "colab": {
          "base_uri": "https://localhost:8080/",
          "height": 351
        }
      },
      "source": [
        "print(top_10_14.live.describe())\n",
        "print(\"-\"*30)\n",
        "print(top_15_19.live.describe())"
      ],
      "execution_count": 0,
      "outputs": [
        {
          "output_type": "stream",
          "text": [
            "count    268.000000\n",
            "mean      19.205224\n",
            "std       13.721646\n",
            "min        3.000000\n",
            "25%       10.000000\n",
            "50%       13.000000\n",
            "75%       28.000000\n",
            "max       70.000000\n",
            "Name: live, dtype: float64\n",
            "------------------------------\n",
            "count    335.000000\n",
            "mean      16.629851\n",
            "std       12.488330\n",
            "min        0.000000\n",
            "25%        9.000000\n",
            "50%       12.000000\n",
            "75%       20.000000\n",
            "max       74.000000\n",
            "Name: live, dtype: float64\n"
          ],
          "name": "stdout"
        }
      ]
    },
    {
      "cell_type": "code",
      "metadata": {
        "id": "eCKInDBaKtYQ",
        "colab_type": "code",
        "outputId": "3f41695c-7a2b-4994-c938-5abd5816af33",
        "colab": {
          "base_uri": "https://localhost:8080/",
          "height": 279
        }
      },
      "source": [
        "# 蜂群图：展示所有数据点&查看不同的类别变量（本例的年份）之下的数据分布\n",
        "\n",
        "_ = sns.swarmplot(x='year',y='live',data=top_10s)\n",
        "\n",
        "_ = plt.xlabel('year')\n",
        "_ = plt.ylabel('live')\n",
        "\n",
        "plt.show()"
      ],
      "execution_count": 0,
      "outputs": [
        {
          "output_type": "display_data",
          "data": {
            "image/png": "[encoded data removed]",
            "text/plain": [
              "<Figure size 432x288 with 1 Axes>"
            ]
          },
          "metadata": {
            "tags": []
          }
        }
      ]
    },
    {
      "cell_type": "code",
      "metadata": {
        "id": "enKZOLmLDmmg",
        "colab_type": "code",
        "colab": {}
      },
      "source": [
        "def ecdf(data):\n",
        "\n",
        "    \"\"\"计算一维数列的经验性累积函数的数值\"\"\"\n",
        "    # 数据的数量\n",
        "    n = len(data)\n",
        "    # 排序之后的数列\n",
        "    x = np.sort(data)\n",
        "    # ECDF函数Y轴\n",
        "    y = np.arange(1, n+1) / n\n",
        "\n",
        "    return x, y"
      ],
      "execution_count": 0,
      "outputs": []
    },
    {
      "cell_type": "code",
      "metadata": {
        "id": "D6LTQE7CEG73",
        "colab_type": "code",
        "outputId": "9bf34a33-af58-40a2-c7bc-3f0f1f73e27e",
        "colab": {
          "base_uri": "https://localhost:8080/",
          "height": 279
        }
      },
      "source": [
        "x_live, y_live = ecdf(top_10s['live'])\n",
        "\n",
        "plt.plot(x_live, y_live,marker='.',linestyle='none')\n",
        "plt.xlabel(\"Song's live attribute\")\n",
        "plt.ylabel('ECDF')\n",
        "\n",
        "plt.show()"
      ],
      "execution_count": 0,
      "outputs": [
        {
          "output_type": "display_data",
          "data": {
            "image/png": "[encoded data removed]",
            "text/plain": [
              "<Figure size 432x288 with 1 Axes>"
            ]
          },
          "metadata": {
            "tags": []
          }
        }
      ]
    },
    {
      "cell_type": "markdown",
      "metadata": {
        "id": "3NQ9P3P0Dlef",
        "colab_type": "text"
      },
      "source": [
        "从 ECDF 图看出，近 7 成的歌曲live 属性不足20。\n",
        "\n",
        "最后听听歌吧，10 年来，Spotify 最热歌曲里头，现场录音的歌曲都有哪些？"
      ]
    },
    {
      "cell_type": "code",
      "metadata": {
        "id": "QCknxMfOMLdl",
        "colab_type": "code",
        "outputId": "24a75ada-f553-4f5b-e3e9-b7361915b73f",
        "colab": {
          "base_uri": "https://localhost:8080/",
          "height": 229
        }
      },
      "source": [
        "top_10s.sort_values(by='live',ascending=False).head()"
      ],
      "execution_count": 0,
      "outputs": [
        {
          "output_type": "execute_result",
          "data": {
            "text/html": [
              "<div>\n",
              "<style scoped>\n",
              "    .dataframe tbody tr th:only-of-type {\n",
              "        vertical-align: middle;\n",
              "    }\n",
              "\n",
              "    .dataframe tbody tr th {\n",
              "        vertical-align: top;\n",
              "    }\n",
              "\n",
              "    .dataframe thead th {\n",
              "        text-align: right;\n",
              "    }\n",
              "</style>\n",
              "<table border=\"1\" class=\"dataframe\">\n",
              "  <thead>\n",
              "    <tr style=\"text-align: right;\">\n",
              "      <th></th>\n",
              "      <th>title</th>\n",
              "      <th>artist</th>\n",
              "      <th>top genre</th>\n",
              "      <th>year</th>\n",
              "      <th>bpm</th>\n",
              "      <th>nrgy</th>\n",
              "      <th>dnce</th>\n",
              "      <th>dB</th>\n",
              "      <th>live</th>\n",
              "      <th>val</th>\n",
              "      <th>dur</th>\n",
              "      <th>acous</th>\n",
              "      <th>spch</th>\n",
              "      <th>pop</th>\n",
              "    </tr>\n",
              "  </thead>\n",
              "  <tbody>\n",
              "    <tr>\n",
              "      <th>401</th>\n",
              "      <td>NO</td>\n",
              "      <td>Meghan Trainor</td>\n",
              "      <td>dance pop</td>\n",
              "      <td>2016</td>\n",
              "      <td>92</td>\n",
              "      <td>80</td>\n",
              "      <td>56</td>\n",
              "      <td>-4</td>\n",
              "      <td>74</td>\n",
              "      <td>65</td>\n",
              "      <td>214</td>\n",
              "      <td>1</td>\n",
              "      <td>22</td>\n",
              "      <td>70</td>\n",
              "    </tr>\n",
              "    <tr>\n",
              "      <th>582</th>\n",
              "      <td>Good as Hell (feat. Ariana Grande) - Remix</td>\n",
              "      <td>Lizzo</td>\n",
              "      <td>escape room</td>\n",
              "      <td>2019</td>\n",
              "      <td>96</td>\n",
              "      <td>89</td>\n",
              "      <td>67</td>\n",
              "      <td>-3</td>\n",
              "      <td>74</td>\n",
              "      <td>48</td>\n",
              "      <td>159</td>\n",
              "      <td>30</td>\n",
              "      <td>6</td>\n",
              "      <td>90</td>\n",
              "    </tr>\n",
              "    <tr>\n",
              "      <th>13</th>\n",
              "      <td>Cooler Than Me - Single Mix</td>\n",
              "      <td>Mike Posner</td>\n",
              "      <td>dance pop</td>\n",
              "      <td>2010</td>\n",
              "      <td>130</td>\n",
              "      <td>82</td>\n",
              "      <td>77</td>\n",
              "      <td>-5</td>\n",
              "      <td>70</td>\n",
              "      <td>63</td>\n",
              "      <td>213</td>\n",
              "      <td>18</td>\n",
              "      <td>5</td>\n",
              "      <td>73</td>\n",
              "    </tr>\n",
              "    <tr>\n",
              "      <th>355</th>\n",
              "      <td>Time of Our Lives</td>\n",
              "      <td>Pitbull</td>\n",
              "      <td>dance pop</td>\n",
              "      <td>2015</td>\n",
              "      <td>124</td>\n",
              "      <td>80</td>\n",
              "      <td>72</td>\n",
              "      <td>-6</td>\n",
              "      <td>69</td>\n",
              "      <td>72</td>\n",
              "      <td>229</td>\n",
              "      <td>9</td>\n",
              "      <td>6</td>\n",
              "      <td>45</td>\n",
              "    </tr>\n",
              "    <tr>\n",
              "      <th>64</th>\n",
              "      <td>Monster</td>\n",
              "      <td>Kanye West</td>\n",
              "      <td>chicago rap</td>\n",
              "      <td>2011</td>\n",
              "      <td>125</td>\n",
              "      <td>69</td>\n",
              "      <td>63</td>\n",
              "      <td>-6</td>\n",
              "      <td>67</td>\n",
              "      <td>10</td>\n",
              "      <td>379</td>\n",
              "      <td>0</td>\n",
              "      <td>20</td>\n",
              "      <td>73</td>\n",
              "    </tr>\n",
              "  </tbody>\n",
              "</table>\n",
              "</div>"
            ],
            "text/plain": [
              "                                          title          artist  ... spch  pop\n",
              "401                                          NO  Meghan Trainor  ...   22   70\n",
              "582  Good as Hell (feat. Ariana Grande) - Remix           Lizzo  ...    6   90\n",
              "13                  Cooler Than Me - Single Mix     Mike Posner  ...    5   73\n",
              "355                           Time of Our Lives         Pitbull  ...    6   45\n",
              "64                                      Monster      Kanye West  ...   20   73\n",
              "\n",
              "[5 rows x 14 columns]"
            ]
          },
          "metadata": {
            "tags": []
          },
          "execution_count": 55
        }
      ]
    },
    {
      "cell_type": "markdown",
      "metadata": {
        "id": "rjBRo7vxNQtT",
        "colab_type": "text"
      },
      "source": [
        "![](https://upload-images.jianshu.io/upload_images/452087-1fed87864606caa9.png?imageMogr2/auto-orient/strip%7CimageView2/2/w/1240)\n",
        "![](https://upload-images.jianshu.io/upload_images/452087-2f6c71026bed15a7.png?imageMogr2/auto-orient/strip%7CimageView2/2/w/1240)\n"
      ]
    },
    {
      "cell_type": "markdown",
      "metadata": {
        "id": "V0agjYaIjYac",
        "colab_type": "text"
      },
      "source": [
        "# changelog \n",
        "\n",
        "2020/1/8 1:08 PM init 1h\n",
        "\n",
        "2020/1/8 4:12 PM 添加 live 属性的数据分析"
      ]
    }
  ]
}